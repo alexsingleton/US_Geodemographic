{
  "cells": [
    {
      "cell_type": "code",
      "source": [
        "import pandas as pd\n",
        "import os\n",
        "import openai\n",
        "prompt_data = pd.read_csv('./data/prompt_titles_cl.csv')"
      ],
      "outputs": [],
      "execution_count": 1,
      "metadata": {
        "gather": {
          "logged": 1679692674507
        },
        "jupyter": {
          "outputs_hidden": false,
          "source_hidden": false
        },
        "nteract": {
          "transient": {
            "deleting": false
          }
        }
      }
    },
    {
      "cell_type": "code",
      "source": [
        "# retrieve rows from prompt_data where the value of the selected column is greater than 120 or less than 80. Return the data for the selected column and columns GPT_Name, CONCEPT, DOMAIN\n",
        "def get_prompt_vars(prompt_data, column, concept):\n",
        "    return prompt_data.loc[((prompt_data[column] > 120) | (prompt_data[column] < 80)) & (prompt_data['CONCEPT'] == concept), ['GPT_Name', 'CONCEPT', 'DOMAIN', column]]"
      ],
      "outputs": [],
      "execution_count": 2,
      "metadata": {
        "gather": {
          "logged": 1679692677211
        },
        "jupyter": {
          "outputs_hidden": false,
          "source_hidden": false
        },
        "nteract": {
          "transient": {
            "deleting": false
          }
        }
      }
    },
    {
      "cell_type": "code",
      "source": [
        "# retrieve rows from prompt_data where the value of the selected column is greater than 120 or less than 80 and concept is equal to the user selection. Return a string combining the columns GPT_Name and user selected column\n",
        "def get_prompt_string(prompt_data, column, concept):\n",
        "    return prompt_data.loc[((prompt_data[column] > 120) | (prompt_data[column] < 80)) & (prompt_data['CONCEPT'] == concept), ['GPT_Name', column]].apply(lambda x: ' '.join(x), axis=1).tolist()    \n"
      ],
      "outputs": [],
      "execution_count": 3,
      "metadata": {
        "gather": {
          "logged": 1679692678647
        }
      }
    },
    {
      "cell_type": "code",
      "source": [
        "prompt_data"
      ],
      "outputs": [
        {
          "output_type": "execute_result",
          "execution_count": 4,
          "data": {
            "text/html": "<div>\n<style scoped>\n    .dataframe tbody tr th:only-of-type {\n        vertical-align: middle;\n    }\n\n    .dataframe tbody tr th {\n        vertical-align: top;\n    }\n\n    .dataframe thead th {\n        text-align: right;\n    }\n</style>\n<table border=\"1\" class=\"dataframe\">\n  <thead>\n    <tr style=\"text-align: right;\">\n      <th></th>\n      <th>UniqueID</th>\n      <th>1_1</th>\n      <th>1_2</th>\n      <th>1_3</th>\n      <th>1_4</th>\n      <th>1_5</th>\n      <th>2_1</th>\n      <th>2_2</th>\n      <th>2_3</th>\n      <th>2_4</th>\n      <th>...</th>\n      <th>7_1</th>\n      <th>7_2</th>\n      <th>7_3</th>\n      <th>7_4</th>\n      <th>7_5</th>\n      <th>7_6</th>\n      <th>GPT_Name</th>\n      <th>Stub</th>\n      <th>CONCEPT</th>\n      <th>DOMAIN</th>\n    </tr>\n  </thead>\n  <tbody>\n    <tr>\n      <th>0</th>\n      <td>B08301_010</td>\n      <td>146</td>\n      <td>25</td>\n      <td>18</td>\n      <td>34</td>\n      <td>15</td>\n      <td>92</td>\n      <td>318</td>\n      <td>138</td>\n      <td>681</td>\n      <td>...</td>\n      <td>76</td>\n      <td>1007</td>\n      <td>123</td>\n      <td>577</td>\n      <td>88</td>\n      <td>144</td>\n      <td>commutes to work using public transit public t...</td>\n      <td>Public transportation (excluding taxicab):</td>\n      <td>ECONOMY</td>\n      <td>Transport</td>\n    </tr>\n    <tr>\n      <th>1</th>\n      <td>B08303_002</td>\n      <td>47</td>\n      <td>67</td>\n      <td>62</td>\n      <td>58</td>\n      <td>132</td>\n      <td>88</td>\n      <td>99</td>\n      <td>215</td>\n      <td>90</td>\n      <td>...</td>\n      <td>78</td>\n      <td>33</td>\n      <td>61</td>\n      <td>45</td>\n      <td>49</td>\n      <td>104</td>\n      <td>commute length Less than 5 minutes</td>\n      <td>Less than 5 minutes</td>\n      <td>ECONOMY</td>\n      <td>Mobility</td>\n    </tr>\n    <tr>\n      <th>2</th>\n      <td>B08303_003</td>\n      <td>66</td>\n      <td>87</td>\n      <td>77</td>\n      <td>79</td>\n      <td>154</td>\n      <td>124</td>\n      <td>116</td>\n      <td>211</td>\n      <td>106</td>\n      <td>...</td>\n      <td>105</td>\n      <td>26</td>\n      <td>88</td>\n      <td>49</td>\n      <td>68</td>\n      <td>110</td>\n      <td>commute length 5 to 9 minutes</td>\n      <td>5 to 9 minutes</td>\n      <td>ECONOMY</td>\n      <td>Mobility</td>\n    </tr>\n    <tr>\n      <th>3</th>\n      <td>B08303_004</td>\n      <td>85</td>\n      <td>103</td>\n      <td>88</td>\n      <td>92</td>\n      <td>140</td>\n      <td>144</td>\n      <td>125</td>\n      <td>172</td>\n      <td>123</td>\n      <td>...</td>\n      <td>112</td>\n      <td>35</td>\n      <td>105</td>\n      <td>68</td>\n      <td>83</td>\n      <td>111</td>\n      <td>commute length 10 to 14 minutes</td>\n      <td>10 to 14 minutes</td>\n      <td>ECONOMY</td>\n      <td>Mobility</td>\n    </tr>\n    <tr>\n      <th>4</th>\n      <td>B08303_005</td>\n      <td>95</td>\n      <td>111</td>\n      <td>96</td>\n      <td>99</td>\n      <td>129</td>\n      <td>155</td>\n      <td>120</td>\n      <td>120</td>\n      <td>135</td>\n      <td>...</td>\n      <td>117</td>\n      <td>38</td>\n      <td>114</td>\n      <td>73</td>\n      <td>93</td>\n      <td>100</td>\n      <td>commute length 15 to 19 minutes</td>\n      <td>15 to 19 minutes</td>\n      <td>ECONOMY</td>\n      <td>Mobility</td>\n    </tr>\n    <tr>\n      <th>...</th>\n      <td>...</td>\n      <td>...</td>\n      <td>...</td>\n      <td>...</td>\n      <td>...</td>\n      <td>...</td>\n      <td>...</td>\n      <td>...</td>\n      <td>...</td>\n      <td>...</td>\n      <td>...</td>\n      <td>...</td>\n      <td>...</td>\n      <td>...</td>\n      <td>...</td>\n      <td>...</td>\n      <td>...</td>\n      <td>...</td>\n      <td>...</td>\n      <td>...</td>\n      <td>...</td>\n    </tr>\n    <tr>\n      <th>206</th>\n      <td>B16004_053</td>\n      <td>149</td>\n      <td>79</td>\n      <td>48</td>\n      <td>42</td>\n      <td>87</td>\n      <td>80</td>\n      <td>358</td>\n      <td>15</td>\n      <td>126</td>\n      <td>...</td>\n      <td>100</td>\n      <td>200</td>\n      <td>49</td>\n      <td>189</td>\n      <td>30</td>\n      <td>147</td>\n      <td>seniors who speak other indo-european language...</td>\n      <td>Speak other Indo-European languages (65+)</td>\n      <td>POP</td>\n      <td>Language</td>\n    </tr>\n    <tr>\n      <th>207</th>\n      <td>B16004_058</td>\n      <td>279</td>\n      <td>124</td>\n      <td>89</td>\n      <td>111</td>\n      <td>47</td>\n      <td>75</td>\n      <td>345</td>\n      <td>14</td>\n      <td>128</td>\n      <td>...</td>\n      <td>144</td>\n      <td>283</td>\n      <td>57</td>\n      <td>211</td>\n      <td>104</td>\n      <td>140</td>\n      <td>seniors who speak asian and pacific island lan...</td>\n      <td>Speak Asian and Pacific Island languages  (65+)</td>\n      <td>POP</td>\n      <td>Language</td>\n    </tr>\n    <tr>\n      <th>208</th>\n      <td>B16004_063</td>\n      <td>132</td>\n      <td>87</td>\n      <td>67</td>\n      <td>34</td>\n      <td>78</td>\n      <td>92</td>\n      <td>242</td>\n      <td>22</td>\n      <td>109</td>\n      <td>...</td>\n      <td>139</td>\n      <td>217</td>\n      <td>134</td>\n      <td>178</td>\n      <td>62</td>\n      <td>199</td>\n      <td>seniors who speak other languages  (65+)</td>\n      <td>Speak other languages  (65+)</td>\n      <td>POP</td>\n      <td>Language</td>\n    </tr>\n    <tr>\n      <th>209</th>\n      <td>C02003_012</td>\n      <td>141</td>\n      <td>120</td>\n      <td>158</td>\n      <td>190</td>\n      <td>79</td>\n      <td>125</td>\n      <td>103</td>\n      <td>97</td>\n      <td>104</td>\n      <td>...</td>\n      <td>148</td>\n      <td>126</td>\n      <td>125</td>\n      <td>140</td>\n      <td>179</td>\n      <td>118</td>\n      <td>Two or more races</td>\n      <td>Population of two races:</td>\n      <td>POP</td>\n      <td>Race / Ancestory / Citizenship</td>\n    </tr>\n    <tr>\n      <th>210</th>\n      <td>C02003_018</td>\n      <td>193</td>\n      <td>140</td>\n      <td>157</td>\n      <td>127</td>\n      <td>73</td>\n      <td>136</td>\n      <td>141</td>\n      <td>85</td>\n      <td>91</td>\n      <td>...</td>\n      <td>163</td>\n      <td>146</td>\n      <td>133</td>\n      <td>161</td>\n      <td>95</td>\n      <td>142</td>\n      <td>Three or more races</td>\n      <td>Population of three races</td>\n      <td>POP</td>\n      <td>Race / Ancestory / Citizenship</td>\n    </tr>\n  </tbody>\n</table>\n<p>211 rows × 44 columns</p>\n</div>",
            "text/plain": "       UniqueID  1_1  1_2  1_3  1_4  1_5  2_1  2_2  2_3  2_4  ...  7_1   7_2   \n0    B08301_010  146   25   18   34   15   92  318  138  681  ...   76  1007  \\\n1    B08303_002   47   67   62   58  132   88   99  215   90  ...   78    33   \n2    B08303_003   66   87   77   79  154  124  116  211  106  ...  105    26   \n3    B08303_004   85  103   88   92  140  144  125  172  123  ...  112    35   \n4    B08303_005   95  111   96   99  129  155  120  120  135  ...  117    38   \n..          ...  ...  ...  ...  ...  ...  ...  ...  ...  ...  ...  ...   ...   \n206  B16004_053  149   79   48   42   87   80  358   15  126  ...  100   200   \n207  B16004_058  279  124   89  111   47   75  345   14  128  ...  144   283   \n208  B16004_063  132   87   67   34   78   92  242   22  109  ...  139   217   \n209  C02003_012  141  120  158  190   79  125  103   97  104  ...  148   126   \n210  C02003_018  193  140  157  127   73  136  141   85   91  ...  163   146   \n\n     7_3  7_4  7_5  7_6                                           GPT_Name   \n0    123  577   88  144  commutes to work using public transit public t...  \\\n1     61   45   49  104                 commute length Less than 5 minutes   \n2     88   49   68  110                      commute length 5 to 9 minutes   \n3    105   68   83  111                    commute length 10 to 14 minutes   \n4    114   73   93  100                    commute length 15 to 19 minutes   \n..   ...  ...  ...  ...                                                ...   \n206   49  189   30  147  seniors who speak other indo-european language...   \n207   57  211  104  140  seniors who speak asian and pacific island lan...   \n208  134  178   62  199           seniors who speak other languages  (65+)   \n209  125  140  179  118                                  Two or more races   \n210  133  161   95  142                                Three or more races   \n\n                                                Stub  CONCEPT   \n0         Public transportation (excluding taxicab):  ECONOMY  \\\n1                                Less than 5 minutes  ECONOMY   \n2                                     5 to 9 minutes  ECONOMY   \n3                                   10 to 14 minutes  ECONOMY   \n4                                   15 to 19 minutes  ECONOMY   \n..                                               ...      ...   \n206        Speak other Indo-European languages (65+)      POP   \n207  Speak Asian and Pacific Island languages  (65+)      POP   \n208                     Speak other languages  (65+)      POP   \n209                         Population of two races:      POP   \n210                        Population of three races      POP   \n\n                             DOMAIN  \n0                         Transport  \n1                          Mobility  \n2                          Mobility  \n3                          Mobility  \n4                          Mobility  \n..                              ...  \n206                        Language  \n207                        Language  \n208                        Language  \n209  Race / Ancestory / Citizenship  \n210  Race / Ancestory / Citizenship  \n\n[211 rows x 44 columns]"
          },
          "metadata": {}
        }
      ],
      "execution_count": 4,
      "metadata": {
        "gather": {
          "logged": 1679692681206
        }
      }
    },
    {
      "cell_type": "code",
      "source": [
        "prompt_data.columns"
      ],
      "outputs": [
        {
          "output_type": "execute_result",
          "execution_count": 5,
          "data": {
            "text/plain": "Index(['UniqueID', '1_1', '1_2', '1_3', '1_4', '1_5', '2_1', '2_2', '2_3',\n       '2_4', '2_5', '3_1', '3_2', '3_3', '3_4', '3_5', '3_6', '3_7', '4_1',\n       '4_2', '4_3', '4_4', '4_5', '5_1', '5_2', '5_3', '5_4', '5_5', '6_1',\n       '6_2', '6_3', '6_4', '6_5', '6_6', '7_1', '7_2', '7_3', '7_4', '7_5',\n       '7_6', 'GPT_Name', 'Stub', 'CONCEPT', 'DOMAIN'],\n      dtype='object')"
          },
          "metadata": {}
        }
      ],
      "execution_count": 5,
      "metadata": {
        "gather": {
          "logged": 1679692684582
        },
        "jupyter": {
          "outputs_hidden": false,
          "source_hidden": false
        },
        "nteract": {
          "transient": {
            "deleting": false
          }
        }
      }
    },
    {
      "cell_type": "code",
      "source": [
        "header = 'A person is trying to explain their neighborhood to a stranger. They present data comparing their neighborhood to the national average. A score of 100 means the neighborhood is equivalent to the national average, a score of 150 means the neighborhhood one and a half times the national average, a score of 200 means the neighborhood is twice the national average, a score of 50 means the neighborhood is half of the national average, a score of 300 means the neighborhood is three times the national average. Their neighborhood has the following charactersitics, described in #DATA# below. Data are presented for each charactersitic followed by a colon, and then a score. A good description of a neighborhood descrives characteristics that have scores which are greater than 120 or less than 80. \\n\\n#DATA#'\n",
        "footer = '\\n\\nWrite a description of the neighborhood in no more than 200 words.'"
      ],
      "outputs": [],
      "execution_count": 6,
      "metadata": {
        "gather": {
          "logged": 1679692687005
        }
      }
    },
    {
      "cell_type": "code",
      "source": [
        "def build_prompt(data, concept, a_class):\n",
        "        data_string = ''\n",
        "        #Select rows from prompt data where the column CONCEPT == concept and column name == class\n",
        "        p_data = data.loc[data['CONCEPT'] == concept, ['GPT_Name', a_class]]\n",
        "\n",
        "        for index, row in p_data.iterrows():\n",
        "                data_string += row['GPT_Name'] + ': ' + str(row[a_class]) + '\\n'\n",
        "        \n",
        "        \n",
        "        return header + data_string + footer\n",
        "    "
      ],
      "outputs": [],
      "execution_count": 7,
      "metadata": {
        "gather": {
          "logged": 1679692691981
        }
      }
    },
    {
      "cell_type": "code",
      "source": [
        "prompt_data['CONCEPT'].unique()\n"
      ],
      "outputs": [
        {
          "output_type": "execute_result",
          "execution_count": 8,
          "data": {
            "text/plain": "array(['ECONOMY', 'ENVIRONMENT', 'POP'], dtype=object)"
          },
          "metadata": {}
        }
      ],
      "execution_count": 8,
      "metadata": {
        "gather": {
          "logged": 1679692697146
        }
      }
    },
    {
      "cell_type": "code",
      "source": [
        "columns = [c for c in prompt_data.columns if c not in ['UniqueID', 'GPT_Name', 'Stub', 'CONCEPT', 'DOMAIN']]\n",
        "concepts = prompt_data['CONCEPT'].unique()\n",
        "openai.api_key = \"\"\n",
        "\n",
        "responses = []\n",
        "ctr = 0\n",
        "for column in columns:\n",
        "        ctr += 1\n",
        "        for concept in concepts:\n",
        "                ctr += 1\n",
        "                print(ctr, column, concept)\n",
        "                #get the prompt string for the column\n",
        "                class_concept_prompt = build_prompt(prompt_data, concept, column)\n",
        "                '''\n",
        "                response = openai.Completion.create(\n",
        "                        model=\"text-davinci-003\",\n",
        "                        prompt=class_concept_prompt,\n",
        "                        temperature=0.3,\n",
        "                        max_tokens=869,\n",
        "                        top_p=1,\n",
        "                        best_of=3,\n",
        "                        frequency_penalty=0.2,\n",
        "                        presence_penalty=0.28)'''\n",
        "                responses.append({'class': column, 'domain': concept, 'prompt': class_concept_prompt})\n",
        "\n",
        "responses_df = pd.DataFrame(responses)\n",
        "responses_df.to_csv('./data/pompts.tsv', sep = '\\t')"
      ],
      "outputs": [
        {
          "output_type": "stream",
          "name": "stdout",
          "text": "2 1_1 ECONOMY\n3 1_1 ENVIRONMENT\n4 1_1 POP\n6 1_2 ECONOMY\n7 1_2 ENVIRONMENT\n8 1_2 POP\n10 1_3 ECONOMY\n11 1_3 ENVIRONMENT\n12 1_3 POP\n14 1_4 ECONOMY\n15 1_4 ENVIRONMENT\n16 1_4 POP\n18 1_5 ECONOMY\n19 1_5 ENVIRONMENT\n20 1_5 POP\n22 2_1 ECONOMY\n23 2_1 ENVIRONMENT\n24 2_1 POP\n26 2_2 ECONOMY\n27 2_2 ENVIRONMENT\n28 2_2 POP\n30 2_3 ECONOMY\n31 2_3 ENVIRONMENT\n32 2_3 POP\n34 2_4 ECONOMY\n35 2_4 ENVIRONMENT\n36 2_4 POP\n38 2_5 ECONOMY\n39 2_5 ENVIRONMENT\n40 2_5 POP\n42 3_1 ECONOMY\n43 3_1 ENVIRONMENT\n44 3_1 POP\n46 3_2 ECONOMY\n47 3_2 ENVIRONMENT\n48 3_2 POP\n50 3_3 ECONOMY\n51 3_3 ENVIRONMENT\n52 3_3 POP\n54 3_4 ECONOMY\n55 3_4 ENVIRONMENT\n56 3_4 POP\n58 3_5 ECONOMY\n59 3_5 ENVIRONMENT\n60 3_5 POP\n62 3_6 ECONOMY\n63 3_6 ENVIRONMENT\n64 3_6 POP\n66 3_7 ECONOMY\n67 3_7 ENVIRONMENT\n68 3_7 POP\n70 4_1 ECONOMY\n71 4_1 ENVIRONMENT\n72 4_1 POP\n74 4_2 ECONOMY\n75 4_2 ENVIRONMENT\n76 4_2 POP\n78 4_3 ECONOMY\n79 4_3 ENVIRONMENT\n80 4_3 POP\n82 4_4 ECONOMY\n83 4_4 ENVIRONMENT\n84 4_4 POP\n86 4_5 ECONOMY\n87 4_5 ENVIRONMENT\n88 4_5 POP\n90 5_1 ECONOMY\n91 5_1 ENVIRONMENT\n92 5_1 POP\n94 5_2 ECONOMY\n95 5_2 ENVIRONMENT\n96 5_2 POP\n98 5_3 ECONOMY\n99 5_3 ENVIRONMENT\n100 5_3 POP\n102 5_4 ECONOMY\n103 5_4 ENVIRONMENT\n104 5_4 POP\n106 5_5 ECONOMY\n107 5_5 ENVIRONMENT\n108 5_5 POP\n110 6_1 ECONOMY\n111 6_1 ENVIRONMENT\n112 6_1 POP\n114 6_2 ECONOMY\n115 6_2 ENVIRONMENT\n116 6_2 POP\n118 6_3 ECONOMY\n119 6_3 ENVIRONMENT\n120 6_3 POP\n122 6_4 ECONOMY\n123 6_4 ENVIRONMENT\n124 6_4 POP\n126 6_5 ECONOMY\n127 6_5 ENVIRONMENT\n128 6_5 POP\n130 6_6 ECONOMY\n131 6_6 ENVIRONMENT\n132 6_6 POP\n134 7_1 ECONOMY\n135 7_1 ENVIRONMENT\n136 7_1 POP\n138 7_2 ECONOMY\n139 7_2 ENVIRONMENT\n140 7_2 POP\n142 7_3 ECONOMY\n143 7_3 ENVIRONMENT\n144 7_3 POP\n146 7_4 ECONOMY\n147 7_4 ENVIRONMENT\n148 7_4 POP\n150 7_5 ECONOMY\n151 7_5 ENVIRONMENT\n152 7_5 POP\n154 7_6 ECONOMY\n155 7_6 ENVIRONMENT\n156 7_6 POP\n"
        }
      ],
      "execution_count": 9,
      "metadata": {
        "gather": {
          "logged": 1679692773048
        }
      }
    },
    {
      "cell_type": "code",
      "source": [
        "responses_df"
      ],
      "outputs": [
        {
          "output_type": "execute_result",
          "execution_count": 10,
          "data": {
            "text/html": "<div>\n<style scoped>\n    .dataframe tbody tr th:only-of-type {\n        vertical-align: middle;\n    }\n\n    .dataframe tbody tr th {\n        vertical-align: top;\n    }\n\n    .dataframe thead th {\n        text-align: right;\n    }\n</style>\n<table border=\"1\" class=\"dataframe\">\n  <thead>\n    <tr style=\"text-align: right;\">\n      <th></th>\n      <th>class</th>\n      <th>domain</th>\n      <th>prompt</th>\n    </tr>\n  </thead>\n  <tbody>\n    <tr>\n      <th>0</th>\n      <td>1_1</td>\n      <td>ECONOMY</td>\n      <td>A person is trying to explain their neighborho...</td>\n    </tr>\n    <tr>\n      <th>1</th>\n      <td>1_1</td>\n      <td>ENVIRONMENT</td>\n      <td>A person is trying to explain their neighborho...</td>\n    </tr>\n    <tr>\n      <th>2</th>\n      <td>1_1</td>\n      <td>POP</td>\n      <td>A person is trying to explain their neighborho...</td>\n    </tr>\n    <tr>\n      <th>3</th>\n      <td>1_2</td>\n      <td>ECONOMY</td>\n      <td>A person is trying to explain their neighborho...</td>\n    </tr>\n    <tr>\n      <th>4</th>\n      <td>1_2</td>\n      <td>ENVIRONMENT</td>\n      <td>A person is trying to explain their neighborho...</td>\n    </tr>\n    <tr>\n      <th>...</th>\n      <td>...</td>\n      <td>...</td>\n      <td>...</td>\n    </tr>\n    <tr>\n      <th>112</th>\n      <td>7_5</td>\n      <td>ENVIRONMENT</td>\n      <td>A person is trying to explain their neighborho...</td>\n    </tr>\n    <tr>\n      <th>113</th>\n      <td>7_5</td>\n      <td>POP</td>\n      <td>A person is trying to explain their neighborho...</td>\n    </tr>\n    <tr>\n      <th>114</th>\n      <td>7_6</td>\n      <td>ECONOMY</td>\n      <td>A person is trying to explain their neighborho...</td>\n    </tr>\n    <tr>\n      <th>115</th>\n      <td>7_6</td>\n      <td>ENVIRONMENT</td>\n      <td>A person is trying to explain their neighborho...</td>\n    </tr>\n    <tr>\n      <th>116</th>\n      <td>7_6</td>\n      <td>POP</td>\n      <td>A person is trying to explain their neighborho...</td>\n    </tr>\n  </tbody>\n</table>\n<p>117 rows × 3 columns</p>\n</div>",
            "text/plain": "    class       domain                                             prompt\n0     1_1      ECONOMY  A person is trying to explain their neighborho...\n1     1_1  ENVIRONMENT  A person is trying to explain their neighborho...\n2     1_1          POP  A person is trying to explain their neighborho...\n3     1_2      ECONOMY  A person is trying to explain their neighborho...\n4     1_2  ENVIRONMENT  A person is trying to explain their neighborho...\n..    ...          ...                                                ...\n112   7_5  ENVIRONMENT  A person is trying to explain their neighborho...\n113   7_5          POP  A person is trying to explain their neighborho...\n114   7_6      ECONOMY  A person is trying to explain their neighborho...\n115   7_6  ENVIRONMENT  A person is trying to explain their neighborho...\n116   7_6          POP  A person is trying to explain their neighborho...\n\n[117 rows x 3 columns]"
          },
          "metadata": {}
        }
      ],
      "execution_count": 10,
      "metadata": {}
    },
    {
      "cell_type": "code",
      "source": [
        "\n",
        "#responses_df['description'] = responses_df.apply(lambda x: openai.Completion.create(engine='text-davinci-003', prompt=x['prompt'], max_tokens=900, temperature=0.4, top_p=1, frequency_penalty=0, presence_penalty=0.6, stop=['\\n\\n']), axis=1)"
      ],
      "outputs": [],
      "execution_count": 10,
      "metadata": {
        "gather": {
          "logged": 1679668214671
        }
      }
    },
    {
      "cell_type": "code",
      "source": [
        "get_prompt_vars(prompt_data, '1_1')\n",
        "                response = openai.Completion.create(\n",
        "                        model=\"text-davinci-003\",\n",
        "                        prompt=class_concept_prompt,\n",
        "                        temperature=0.3,\n",
        "                        max_tokens=869,\n",
        "                        top_p=1,\n",
        "                        best_of=3,\n",
        "                        frequency_penalty=0.2,\n",
        "                        presence_penalty=0.28)"
      ],
      "outputs": [
        {
          "output_type": "error",
          "ename": "IndentationError",
          "evalue": "unexpected indent (4185517605.py, line 2)",
          "traceback": [
            "\u001b[0;36m  Cell \u001b[0;32mIn[11], line 2\u001b[0;36m\u001b[0m\n\u001b[0;31m    response = openai.Completion.create(\u001b[0m\n\u001b[0m    ^\u001b[0m\n\u001b[0;31mIndentationError\u001b[0m\u001b[0;31m:\u001b[0m unexpected indent\n"
          ]
        }
      ],
      "execution_count": 11,
      "metadata": {
        "gather": {
          "logged": 1681757124575
        }
      }
    }
  ],
  "metadata": {
    "kernel_info": {
      "name": "python3"
    },
    "kernelspec": {
      "name": "python3",
      "language": "python",
      "display_name": "Python 3 (ipykernel)"
    },
    "language_info": {
      "name": "python",
      "version": "3.8.5",
      "mimetype": "text/x-python",
      "codemirror_mode": {
        "name": "ipython",
        "version": 3
      },
      "pygments_lexer": "ipython3",
      "nbconvert_exporter": "python",
      "file_extension": ".py"
    },
    "microsoft": {
      "host": {
        "AzureML": {
          "notebookHasBeenCompleted": true
        }
      },
      "ms_spell_check": {
        "ms_spell_check_language": "en"
      }
    },
    "nteract": {
      "version": "nteract-front-end@1.0.0"
    }
  },
  "nbformat": 4,
  "nbformat_minor": 2
}